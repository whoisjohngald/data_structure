{
 "cells": [
  {
   "cell_type": "markdown",
   "metadata": {},
   "source": [
    "### 100. Same Tree"
   ]
  },
  {
   "cell_type": "code",
   "execution_count": null,
   "metadata": {},
   "outputs": [],
   "source": [
    "# Definition for a binary tree node.\n",
    "# class TreeNode:\n",
    "#     def __init__(self, x):\n",
    "#         self.val = x\n",
    "#         self.left = None\n",
    "#         self.right = None\n",
    "\n",
    "class Solution:\n",
    "    def isSameTree(self, p: TreeNode, q: TreeNode) -> bool:\n",
    "        if not p and not q:\n",
    "            return True\n",
    "        if not q or not p:\n",
    "            return False\n",
    "        if p.val != q.val:\n",
    "            return False\n",
    "        return self.isSameTree(p.left, q.left) and self.isSameTree(p.right, q.right)"
   ]
  },
  {
   "cell_type": "markdown",
   "metadata": {},
   "source": [
    "### 617. Merge Two Binary Trees"
   ]
  },
  {
   "cell_type": "code",
   "execution_count": null,
   "metadata": {},
   "outputs": [],
   "source": [
    "# Definition for a binary tree node.\n",
    "# class TreeNode:\n",
    "#     def __init__(self, x):\n",
    "#         self.val = x\n",
    "#         self.left = None\n",
    "#         self.right = None\n",
    "\n",
    "class Solution:\n",
    "    def mergeTrees(self, t1: TreeNode, t2: TreeNode) -> TreeNode:\n",
    "        if t1 == None:\n",
    "            return t2\n",
    "        if t2 == None:\n",
    "            return t1\n",
    "        tmp = TreeNode( t1.val + t2.val)\n",
    "        tmp.left = self.mergeTrees(t1.left, t2.left)\n",
    "        tmp.right = self.mergeTrees(t1.right, t2.right)\n",
    "        return tmp"
   ]
  },
  {
   "cell_type": "markdown",
   "metadata": {},
   "source": [
    "### 965. Univalued Binary Tree"
   ]
  },
  {
   "cell_type": "code",
   "execution_count": null,
   "metadata": {},
   "outputs": [],
   "source": [
    "# Definition for a binary tree node.\n",
    "# class TreeNode:\n",
    "#     def __init__(self, x):\n",
    "#         self.val = x\n",
    "#         self.left = None\n",
    "#         self.right = None\n",
    "class Solution:\n",
    "    def isUnivalTree(self, root: TreeNode) -> bool:\n",
    "        stack = [root]\n",
    "        if stack == None:\n",
    "            return False\n",
    "        node = stack.pop()\n",
    "        target = node.val\n",
    "        stack.append(node)\n",
    "        while stack:\n",
    "            node = stack.pop()\n",
    "            if node:\n",
    "                if node.val != target:\n",
    "                    print(node.val,' !=', target)\n",
    "                    return False \n",
    "                stack.append(node.left)\n",
    "                stack.append(node.right)\n",
    "        return True"
   ]
  },
  {
   "cell_type": "markdown",
   "metadata": {},
   "source": [
    "### 367. Valid Perfect Square"
   ]
  },
  {
   "cell_type": "code",
   "execution_count": null,
   "metadata": {},
   "outputs": [],
   "source": [
    "class Solution:\n",
    "    def isPerfectSquare(self, num: int) -> bool:\n",
    "        if num  < 2:\n",
    "            return True\n",
    "        l, r = 0, num - 1\n",
    "        while l <= r:\n",
    "            m = (l + 1 + r)//2\n",
    "            if m*m == num:\n",
    "                return True\n",
    "            elif m*m < num:\n",
    "                l = m + 1\n",
    "            elif m*m > num:\n",
    "                r = m - 1\n",
    "        return False"
   ]
  },
  {
   "cell_type": "markdown",
   "metadata": {},
   "source": [
    "### 167. Two Sum II - Input array is sorted"
   ]
  },
  {
   "cell_type": "code",
   "execution_count": 1,
   "metadata": {
    "collapsed": true
   },
   "outputs": [
    {
     "ename": "NameError",
     "evalue": "name 'List' is not defined",
     "output_type": "error",
     "traceback": [
      "\u001b[1;31m---------------------------------------------------------------------------\u001b[0m",
      "\u001b[1;31mNameError\u001b[0m                                 Traceback (most recent call last)",
      "\u001b[1;32m<ipython-input-1-76b70a8f0e87>\u001b[0m in \u001b[0;36m<module>\u001b[1;34m\u001b[0m\n\u001b[1;32m----> 1\u001b[1;33m \u001b[1;32mclass\u001b[0m \u001b[0mSolution\u001b[0m\u001b[1;33m:\u001b[0m\u001b[1;33m\u001b[0m\u001b[1;33m\u001b[0m\u001b[0m\n\u001b[0m\u001b[0;32m      2\u001b[0m     \u001b[1;32mdef\u001b[0m \u001b[0mtwoSum\u001b[0m\u001b[1;33m(\u001b[0m\u001b[0mself\u001b[0m\u001b[1;33m,\u001b[0m \u001b[0mnumbers\u001b[0m\u001b[1;33m:\u001b[0m \u001b[0mList\u001b[0m\u001b[1;33m[\u001b[0m\u001b[0mint\u001b[0m\u001b[1;33m]\u001b[0m\u001b[1;33m,\u001b[0m \u001b[0mtarget\u001b[0m\u001b[1;33m:\u001b[0m \u001b[0mint\u001b[0m\u001b[1;33m)\u001b[0m \u001b[1;33m->\u001b[0m \u001b[0mList\u001b[0m\u001b[1;33m[\u001b[0m\u001b[0mint\u001b[0m\u001b[1;33m]\u001b[0m\u001b[1;33m:\u001b[0m\u001b[1;33m\u001b[0m\u001b[1;33m\u001b[0m\u001b[0m\n\u001b[0;32m      3\u001b[0m         \u001b[0mdict_num\u001b[0m \u001b[1;33m=\u001b[0m \u001b[1;33m{\u001b[0m\u001b[1;33m}\u001b[0m\u001b[1;33m\u001b[0m\u001b[1;33m\u001b[0m\u001b[0m\n\u001b[0;32m      4\u001b[0m         \u001b[1;32mfor\u001b[0m \u001b[0mi\u001b[0m\u001b[1;33m,\u001b[0m \u001b[0mn\u001b[0m \u001b[1;32min\u001b[0m \u001b[0menumerate\u001b[0m\u001b[1;33m(\u001b[0m\u001b[0mnumbers\u001b[0m\u001b[1;33m)\u001b[0m\u001b[1;33m:\u001b[0m\u001b[1;33m\u001b[0m\u001b[1;33m\u001b[0m\u001b[0m\n\u001b[0;32m      5\u001b[0m             \u001b[0mdict_num\u001b[0m\u001b[1;33m[\u001b[0m\u001b[0mn\u001b[0m\u001b[1;33m]\u001b[0m \u001b[1;33m=\u001b[0m \u001b[0mi\u001b[0m\u001b[1;33m\u001b[0m\u001b[1;33m\u001b[0m\u001b[0m\n",
      "\u001b[1;32m<ipython-input-1-76b70a8f0e87>\u001b[0m in \u001b[0;36mSolution\u001b[1;34m()\u001b[0m\n\u001b[0;32m      1\u001b[0m \u001b[1;32mclass\u001b[0m \u001b[0mSolution\u001b[0m\u001b[1;33m:\u001b[0m\u001b[1;33m\u001b[0m\u001b[1;33m\u001b[0m\u001b[0m\n\u001b[1;32m----> 2\u001b[1;33m     \u001b[1;32mdef\u001b[0m \u001b[0mtwoSum\u001b[0m\u001b[1;33m(\u001b[0m\u001b[0mself\u001b[0m\u001b[1;33m,\u001b[0m \u001b[0mnumbers\u001b[0m\u001b[1;33m:\u001b[0m \u001b[0mList\u001b[0m\u001b[1;33m[\u001b[0m\u001b[0mint\u001b[0m\u001b[1;33m]\u001b[0m\u001b[1;33m,\u001b[0m \u001b[0mtarget\u001b[0m\u001b[1;33m:\u001b[0m \u001b[0mint\u001b[0m\u001b[1;33m)\u001b[0m \u001b[1;33m->\u001b[0m \u001b[0mList\u001b[0m\u001b[1;33m[\u001b[0m\u001b[0mint\u001b[0m\u001b[1;33m]\u001b[0m\u001b[1;33m:\u001b[0m\u001b[1;33m\u001b[0m\u001b[1;33m\u001b[0m\u001b[0m\n\u001b[0m\u001b[0;32m      3\u001b[0m         \u001b[0mdict_num\u001b[0m \u001b[1;33m=\u001b[0m \u001b[1;33m{\u001b[0m\u001b[1;33m}\u001b[0m\u001b[1;33m\u001b[0m\u001b[1;33m\u001b[0m\u001b[0m\n\u001b[0;32m      4\u001b[0m         \u001b[1;32mfor\u001b[0m \u001b[0mi\u001b[0m\u001b[1;33m,\u001b[0m \u001b[0mn\u001b[0m \u001b[1;32min\u001b[0m \u001b[0menumerate\u001b[0m\u001b[1;33m(\u001b[0m\u001b[0mnumbers\u001b[0m\u001b[1;33m)\u001b[0m\u001b[1;33m:\u001b[0m\u001b[1;33m\u001b[0m\u001b[1;33m\u001b[0m\u001b[0m\n\u001b[0;32m      5\u001b[0m             \u001b[0mdict_num\u001b[0m\u001b[1;33m[\u001b[0m\u001b[0mn\u001b[0m\u001b[1;33m]\u001b[0m \u001b[1;33m=\u001b[0m \u001b[0mi\u001b[0m\u001b[1;33m\u001b[0m\u001b[1;33m\u001b[0m\u001b[0m\n",
      "\u001b[1;31mNameError\u001b[0m: name 'List' is not defined"
     ]
    }
   ],
   "source": [
    "class Solution:\n",
    "    def twoSum(self, numbers: List[int], target: int) -> List[int]:\n",
    "        dict_num = {}\n",
    "        for i, n in enumerate(numbers):\n",
    "            dict_num[n] = i\n",
    "        for i, n1 in enumerate(numbers):\n",
    "            if  target - n1 in dict_num:\n",
    "                return [i+1, dict_num[target - n1]+1]\n",
    "        return [] \n",
    "        "
   ]
  },
  {
   "cell_type": "markdown",
   "metadata": {},
   "source": [
    "### 507. Perfect Number"
   ]
  },
  {
   "cell_type": "code",
   "execution_count": null,
   "metadata": {},
   "outputs": [],
   "source": [
    "import math\n",
    "class Solution:\n",
    "    def checkPerfectNumber(self, num: int) -> bool:\n",
    "        if num < 2:\n",
    "            return False\n",
    "        l = 1\n",
    "        for i in range(2, int(math.sqrt(num))+1):\n",
    "            if num%i == 0:\n",
    "                l += i + num/i\n",
    "        return l == num"
   ]
  },
  {
   "cell_type": "markdown",
   "metadata": {},
   "source": [
    "### 595. Big Countries"
   ]
  },
  {
   "cell_type": "code",
   "execution_count": null,
   "metadata": {},
   "outputs": [],
   "source": [
    "select name, population, area \n",
    "from World\n",
    "where area > 3000000 or population > 25000000"
   ]
  },
  {
   "cell_type": "markdown",
   "metadata": {},
   "source": [
    "### 1108. Defanging an IP Address"
   ]
  },
  {
   "cell_type": "code",
   "execution_count": null,
   "metadata": {},
   "outputs": [],
   "source": [
    "class Solution:\n",
    "    def defangIPaddr(self, address: str) -> str:\n",
    "        add = []\n",
    "        for i in address:\n",
    "            if i == '.':\n",
    "                add.append('[.]')\n",
    "            else:\n",
    "                add.append(i)\n",
    "        return ''.join(add)"
   ]
  },
  {
   "cell_type": "markdown",
   "metadata": {},
   "source": [
    "### 9. Palindrome Number"
   ]
  },
  {
   "cell_type": "code",
   "execution_count": null,
   "metadata": {},
   "outputs": [],
   "source": [
    "class Solution:\n",
    "    def isPalindrome(self, x: int) -> bool:\n",
    "        num_str = str(x)\n",
    "        i, j = 0, len(num_str) - 1\n",
    "        while i < j:\n",
    "            if num_str[i] != num_str[j]:\n",
    "                return False\n",
    "            i += 1\n",
    "            j -= 1\n",
    "        return True"
   ]
  },
  {
   "cell_type": "markdown",
   "metadata": {},
   "source": [
    "### 53. Maximum Subarray"
   ]
  },
  {
   "cell_type": "code",
   "execution_count": 11,
   "metadata": {},
   "outputs": [],
   "source": [
    "class Solution:\n",
    "    def maxSubArray(self, nums: List[int]) -> int:\n",
    "        if len(nums) == 0:\n",
    "            return 0\n",
    "        if len(nums) == 1:\n",
    "            return nums[0]\n",
    "        \n",
    "        max_sum = curr = nums[0]\n",
    "        \n",
    "        for  i in range(1, len(nums)):\n",
    "            curr += nums[i]\n",
    "            if curr < nums[i]:\n",
    "                curr = nums[i]\n",
    "            if max_sum < curr:\n",
    "                max_sum = curr\n",
    "        return max_sum"
   ]
  },
  {
   "cell_type": "markdown",
   "metadata": {},
   "source": [
    "### 14. Longest Common Prefix"
   ]
  },
  {
   "cell_type": "code",
   "execution_count": 84,
   "metadata": {},
   "outputs": [],
   "source": [
    "    def longestCommonPrefix(self, strs: List[str]) -> str:\n",
    "        prefix = ''\n",
    "        if len(strs) == 0:\n",
    "            return ''\n",
    "        if len(strs) == 1:\n",
    "            return strs[0]\n",
    "        for i in range(1,len(strs[0])+1):\n",
    "            for word in strs[1:]:\n",
    "                if strs[0][:i] != word[:i]:\n",
    "                    return prefix\n",
    "            prefix = strs[0][:i]\n",
    "        return prefix"
   ]
  },
  {
   "cell_type": "markdown",
   "metadata": {},
   "source": [
    "### 151. Reverse Words in a String"
   ]
  },
  {
   "cell_type": "code",
   "execution_count": 95,
   "metadata": {},
   "outputs": [],
   "source": [
    "def reverseWords(s):\n",
    "        return ' '.join([word for word in list(s.split())[::-1]])"
   ]
  },
  {
   "cell_type": "markdown",
   "metadata": {},
   "source": [
    "### 557. Reverse Words in a String III"
   ]
  },
  {
   "cell_type": "code",
   "execution_count": 107,
   "metadata": {},
   "outputs": [],
   "source": [
    "def reverseWords(s):\n",
    "    s_list = []\n",
    "    for word in s.split():\n",
    "        s_list.append(''.join([i for i in word[::-1]]))\n",
    "    return(' '.join(s_list))"
   ]
  },
  {
   "cell_type": "markdown",
   "metadata": {},
   "source": [
    "### 26. Remove Duplicates from Sorted Array"
   ]
  },
  {
   "cell_type": "code",
   "execution_count": 137,
   "metadata": {},
   "outputs": [],
   "source": [
    "class Solution:\n",
    "    def removeDuplicates(self, nums: List[int]) -> int:\n",
    "        if len(nums) == 0:\n",
    "            return len(nums)\n",
    "        if len(nums) == 1:\n",
    "            return len(nums)\n",
    "        j = 1\n",
    "        for i in range(1,len(nums)) :\n",
    "            if nums[j-1] != nums[i]:\n",
    "                nums[j] = nums[i]\n",
    "                j += 1\n",
    "        return j"
   ]
  },
  {
   "cell_type": "markdown",
   "metadata": {},
   "source": [
    "### 541. Reverse String II"
   ]
  },
  {
   "cell_type": "code",
   "execution_count": 162,
   "metadata": {},
   "outputs": [],
   "source": [
    "def reverseStr(s, k):\n",
    "    l = ''\n",
    "    i = 0\n",
    "    while i*k <= len(s):\n",
    "        l += s[k*i, (i+1)k][::-1]\n",
    "        l += s[(i+1)*k, (i+2)*k]\n",
    "        i += 0\n",
    "       \n",
    "    l.append(s[tmp-k:])\n",
    "    return ''.join(l)"
   ]
  },
  {
   "cell_type": "code",
   "execution_count": 163,
   "metadata": {},
   "outputs": [
    {
     "name": "stdout",
     "output_type": "stream",
     "text": [
      "1\n",
      "0\n",
      "2\n",
      "3\n",
      "5\n",
      "4\n"
     ]
    },
    {
     "data": {
      "text/plain": [
       "'bacdfe'"
      ]
     },
     "execution_count": 163,
     "metadata": {},
     "output_type": "execute_result"
    }
   ],
   "source": [
    "reverseStr( \"abcdef\", 2)"
   ]
  },
  {
   "cell_type": "code",
   "execution_count": null,
   "metadata": {},
   "outputs": [],
   "source": []
  },
  {
   "cell_type": "code",
   "execution_count": null,
   "metadata": {},
   "outputs": [],
   "source": [
    "# Definition for a binary tree node.\n",
    "class TreeNode:\n",
    "    def __init__(self, x):\n",
    "        self.val = x\n",
    "        self.left = None\n",
    "        self.right = None\n",
    "\n",
    "class Solution:\n",
    "    def isSymmetric(self, root: TreeNode) -> bool:\n",
    "        if root == None:\n",
    "        node = root\n",
    "        if \n",
    "        "
   ]
  },
  {
   "cell_type": "markdown",
   "metadata": {},
   "source": [
    "### 387. First Unique Character in a String"
   ]
  },
  {
   "cell_type": "code",
   "execution_count": 188,
   "metadata": {},
   "outputs": [],
   "source": [
    "class Solution:\n",
    "    def firstUniqChar(self, s: str) -> int:\n",
    "        count = collections.Counter(s)\n",
    "        for ind,char in enumerate(s):\n",
    "            if count[char] == 1:\n",
    "                return ind\n",
    "        return -1"
   ]
  },
  {
   "cell_type": "code",
   "execution_count": 189,
   "metadata": {},
   "outputs": [
    {
     "data": {
      "text/plain": [
       "2"
      ]
     },
     "execution_count": 189,
     "metadata": {},
     "output_type": "execute_result"
    }
   ],
   "source": [
    "firstUniqChar(\"loveleetcode\")"
   ]
  },
  {
   "cell_type": "markdown",
   "metadata": {},
   "source": [
    "### 13. Roman to Integer"
   ]
  },
  {
   "cell_type": "code",
   "execution_count": 254,
   "metadata": {},
   "outputs": [],
   "source": [
    "class Solution:\n",
    "    def romanToInt(self, s: str) -> int:\n",
    "        dict_rom = {'I': 1,'V': 5,'X': 10,'L': 50,'C': 100,'D':500,'M':1000}\n",
    "        summer = 0\n",
    "        for i in range(0,len(s) - 1):\n",
    "            if dict_rom[s[i]] >= dict_rom[s[i + 1]]:\n",
    "                summer += dict_rom[s[i]]\n",
    "            else:\n",
    "                summer -= dict_rom[s[i]] \n",
    "        return summer + dict_rom[s[-1]] "
   ]
  },
  {
   "cell_type": "code",
   "execution_count": null,
   "metadata": {},
   "outputs": [],
   "source": []
  },
  {
   "cell_type": "code",
   "execution_count": 279,
   "metadata": {},
   "outputs": [],
   "source": [
    "def containsNearbyDuplicate(nums, k) -> bool:\n",
    "    for i in range(len(nums)+1-k):\n",
    "        if nums[i] in nums[i+1:i+k+1]:\n",
    "            print(nums[i])\n",
    "            print(nums[i:i+k])\n",
    "            return True\n",
    "    return False"
   ]
  },
  {
   "cell_type": "code",
   "execution_count": 280,
   "metadata": {},
   "outputs": [
    {
     "data": {
      "text/plain": [
       "2"
      ]
     },
     "execution_count": 280,
     "metadata": {},
     "output_type": "execute_result"
    }
   ],
   "source": [
    "[99,99]\n",
    "2"
   ]
  },
  {
   "cell_type": "code",
   "execution_count": 281,
   "metadata": {},
   "outputs": [
    {
     "data": {
      "text/plain": [
       "False"
      ]
     },
     "execution_count": 281,
     "metadata": {},
     "output_type": "execute_result"
    }
   ],
   "source": [
    "containsNearbyDuplicate([99,80,70,60,99], 2)"
   ]
  },
  {
   "cell_type": "markdown",
   "metadata": {},
   "source": [
    "### 509. Fibonacci Number"
   ]
  },
  {
   "cell_type": "code",
   "execution_count": null,
   "metadata": {},
   "outputs": [],
   "source": [
    "class Solution:\n",
    "    def fib(self, N: int) -> int:\n",
    "        if N == 0:\n",
    "            return 0\n",
    "        if N == 1:\n",
    "            return 1\n",
    "        return self.fib(N-1) + self.fib(N - 2)"
   ]
  },
  {
   "cell_type": "markdown",
   "metadata": {},
   "source": [
    "### 258. Add Digits"
   ]
  },
  {
   "cell_type": "code",
   "execution_count": 282,
   "metadata": {},
   "outputs": [],
   "source": [
    "class Solution:\n",
    "    def addDigits(self, num: int) -> int:\n",
    "        tmp = num\n",
    "        while len(str(tmp))!= 1:\n",
    "            s = 0\n",
    "            for n in str(tmp):\n",
    "                s += int(n)\n",
    "            tmp = s\n",
    "        return tmp  "
   ]
  },
  {
   "cell_type": "code",
   "execution_count": 284,
   "metadata": {},
   "outputs": [
    {
     "data": {
      "text/plain": [
       "2"
      ]
     },
     "execution_count": 284,
     "metadata": {},
     "output_type": "execute_result"
    }
   ],
   "source": [
    "addDigits(38)"
   ]
  },
  {
   "cell_type": "markdown",
   "metadata": {},
   "source": [
    "### 263. Ugly Number"
   ]
  },
  {
   "cell_type": "code",
   "execution_count": 286,
   "metadata": {},
   "outputs": [],
   "source": [
    "class Solution:\n",
    "    def isUgly(self, num: int) -> bool:\n",
    "        if num != 0:\n",
    "            tmp = num\n",
    "            while tmp% 2 == 0:\n",
    "                tmp /=2\n",
    "            while tmp% 3 == 0:\n",
    "                tmp /=3\n",
    "            while tmp% 5 == 0:\n",
    "                tmp /=5\n",
    "            if (tmp == 1):\n",
    "                return True\n",
    "            else: return False\n",
    "        return False"
   ]
  },
  {
   "cell_type": "code",
   "execution_count": 288,
   "metadata": {},
   "outputs": [
    {
     "data": {
      "text/plain": [
       "False"
      ]
     },
     "execution_count": 288,
     "metadata": {},
     "output_type": "execute_result"
    }
   ],
   "source": [
    "isUgly(14)"
   ]
  },
  {
   "cell_type": "code",
   "execution_count": null,
   "metadata": {},
   "outputs": [],
   "source": []
  }
 ],
 "metadata": {
  "kernelspec": {
   "display_name": "Python 3",
   "language": "python",
   "name": "python3"
  },
  "language_info": {
   "codemirror_mode": {
    "name": "ipython",
    "version": 3
   },
   "file_extension": ".py",
   "mimetype": "text/x-python",
   "name": "python",
   "nbconvert_exporter": "python",
   "pygments_lexer": "ipython3",
   "version": "3.7.1"
  }
 },
 "nbformat": 4,
 "nbformat_minor": 2
}
