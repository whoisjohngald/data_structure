{
 "cells": [
  {
   "cell_type": "code",
   "execution_count": 104,
   "metadata": {},
   "outputs": [],
   "source": [
    "class TreeNode:\n",
    "### INIT\n",
    "    def __init__(self, val):\n",
    "        self.val = val\n",
    "        self.left = None\n",
    "        self.right = None\n",
    "    def get(self):\n",
    "        if self != None:\n",
    "            return node.val\n",
    " ### INSERT       \n",
    "        \n",
    "    def insert(self, node, val): \n",
    "        # If the tree is empty, return a new node \n",
    "        if node is None: \n",
    "            return TreeNode(val) \n",
    "        # Otherwise recur down the tree \n",
    "        if val < node.val: \n",
    "            node.left = self.insert(node.left, val) \n",
    "        else: \n",
    "            node.right = self.insert(node.right, val) \n",
    "        # return the (unchanged) node pointer \n",
    "        return node \n",
    "### GET CHILDREN\n",
    "    def getChildren(self):\n",
    "        children = []\n",
    "        if(self.left != None):\n",
    "            children.append(self.left)\n",
    "        if(self.right != None):\n",
    "            children.append(self.right)\n",
    "        return children\n",
    " ### INORDER   \n",
    "    def inorder(self, node): \n",
    "        if node != None: \n",
    "            if node.left:\n",
    "                self.inorder(node.left) \n",
    "            print(node.val) \n",
    "            if node.right:\n",
    "                self.inorder(node.right) \n",
    "### MIN VALUE\n",
    "    def minValueNode(self, node): \n",
    "        current = node\n",
    "        while(current.left is not None): \n",
    "            current = current.left  \n",
    "        return current \n",
    "### DELETE NODE\n",
    "    def deleteNode(self, node: TreeNode, val): \n",
    "        if node is None: \n",
    "            return node  \n",
    "        # If the key to be deleted is smaller than the root's \n",
    "        # key then it lies in  left subtree \n",
    "        if val < node.val: \n",
    "            node.left = self.deleteNode(node.left, val) \n",
    "        # If the kye to be delete is greater than the root's key \n",
    "        # then it lies in right subtree \n",
    "        elif(val > node.val): \n",
    "            node.right = self.deleteNode(node.right, val) \n",
    "        # If key is same as root's key, then this is the node \n",
    "        # to be deleted \n",
    "        else: \n",
    "            # Node with only one child or no child \n",
    "            if node.left is None : \n",
    "                temp = node.right  \n",
    "                node = None \n",
    "                return temp      \n",
    "            elif node.right is None : \n",
    "                temp = node.left  \n",
    "                node = None\n",
    "                return temp \n",
    "            # Node with two children: Get the inorder successor \n",
    "            # (smallest in the right subtree) \n",
    "            temp = self.minValueNode(node.right) \n",
    "            # Copy the inorder successor's content to this node \n",
    "            node.val = temp.val\n",
    "            # Delete the inorder successor \n",
    "            node.right = self.deleteNode(root.right , temp.val) \n",
    "        return node  \n"
   ]
  },
  {
   "cell_type": "code",
   "execution_count": 105,
   "metadata": {},
   "outputs": [
    {
     "data": {
      "text/plain": [
       "<__main__.TreeNode at 0x1dc30ffeda0>"
      ]
     },
     "execution_count": 105,
     "metadata": {},
     "output_type": "execute_result"
    }
   ],
   "source": [
    "node = TreeNode(6)\n",
    "node.insert(node,10)\n",
    "node.insert(node, 5)\n",
    "node.insert(node,11)\n",
    "node.insert(node, 55)\n",
    "node.insert(node,61)\n",
    "node.insert(node, 3)"
   ]
  },
  {
   "cell_type": "code",
   "execution_count": 101,
   "metadata": {},
   "outputs": [
    {
     "name": "stdout",
     "output_type": "stream",
     "text": [
      "3\n",
      "5\n",
      "6\n",
      "10\n",
      "11\n",
      "55\n",
      "61\n"
     ]
    }
   ],
   "source": [
    "node.inorder(node)"
   ]
  },
  {
   "cell_type": "code",
   "execution_count": 106,
   "metadata": {},
   "outputs": [
    {
     "name": "stdout",
     "output_type": "stream",
     "text": [
      "3\n",
      "6\n",
      "10\n",
      "11\n",
      "55\n",
      "61\n"
     ]
    }
   ],
   "source": [
    "node = node.deleteNode(node, 5)\n",
    "node.inorder(node)"
   ]
  }
 ],
 "metadata": {
  "kernelspec": {
   "display_name": "Python 3",
   "language": "python",
   "name": "python3"
  },
  "language_info": {
   "codemirror_mode": {
    "name": "ipython",
    "version": 3
   },
   "file_extension": ".py",
   "mimetype": "text/x-python",
   "name": "python",
   "nbconvert_exporter": "python",
   "pygments_lexer": "ipython3",
   "version": "3.7.1"
  }
 },
 "nbformat": 4,
 "nbformat_minor": 2
}
